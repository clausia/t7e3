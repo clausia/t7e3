{
 "cells": [
  {
   "cell_type": "markdown",
   "metadata": {},
   "source": [
    "# Claudia Zendejas Morales"
   ]
  },
  {
   "cell_type": "markdown",
   "metadata": {},
   "source": [
    "## Tarea 7, Ejercicio 3"
   ]
  },
  {
   "cell_type": "markdown",
   "metadata": {},
   "source": [
    "Sea un potencial complejo\n",
    "\n",
    "\n",
    "$$F(z)=\\frac{m}{2\\pi}log(z+\\epsilon)-\\frac{m}{2\\pi}log(z-\\epsilon)$$\n",
    "\n",
    "\n",
    "Grafique el campo de velocidades correspondiente a $F(z)$.\n",
    "\n",
    "<br>\n",
    "<br>\n",
    "<br>\n",
    "<br>\n",
    "<br>\n",
    "\n",
    "El potencial especificado se compone de una fuente y de un sumidero, la primer parte es la fuente y está desplazada $\\epsilon$ a la izquierda, mientras que la segunda parte es el sumidero y está desplazado a la derecha con el mismo valor $\\epsilon$.\n",
    "\n",
    "Del ejercicio 2 de esta misma tarea, sabemos que:\n",
    "\n",
    "$$u_r\\left(r,\\theta\\right) = \\frac{m}{2\\pi r} \\text{,} \\qquad u_\\theta\\left(r,\\theta\\right)=0$$\n",
    "\n",
    "Donde $m$ representa la fuerza de la fuente. Como la velocidad tangencial es cero, entonces las líneas de flujo son líneas radiales.\n",
    "\n",
    "En coordenadas cartesianas, el campo de velocidades $\\left(u,v\\right)$ en la posición $\\left(x,y\\right)$ correspondientes a una fuerza de la fuente $m$ localizado en $\\left(-\\epsilon,0\\right)$, esta dado por:\n",
    "\n",
    "$$u_f = \\frac{m}{2\\pi}\\frac{x+\\epsilon}{\\left(x+\\epsilon\\right)^2+\\left(y\\right)^2}$$\n",
    "\n",
    "y\n",
    "\n",
    "$$v_f = \\frac{m}{2\\pi}\\frac{y}{\\left(x+\\epsilon\\right)^2+\\left(y\\right)^2}$$\n",
    "\n",
    "Para el caso del sumidero, se tiene que la fuerza $m$ es negativa, y el desplazamiento ocurre hacia el otro lado localizándolo en $\\left(\\epsilon,0\\right)$, entonces su campo correspondiente de velocidades es:\n",
    "\n",
    "$$u_s = \\frac{m}{2\\pi}\\frac{x-\\epsilon}{\\left(x-\\epsilon\\right)^2+\\left(y\\right)^2}$$\n",
    "\n",
    "y\n",
    "\n",
    "$$v_s = \\frac{m}{2\\pi}\\frac{y}{\\left(x-\\epsilon\\right)^2+\\left(y\\right)^2}$$\n",
    "\n",
    "Entonces se escribe la expresión de cada uno, fuente y sumidero y se restan, para así obtener el campo completo, el cual es graficado. Se provee la opción de variar el valor de $\\epsilon$ y así poder notar como cambia el campo de velocidades con disntintas distancias entre fuente y sumidero."
   ]
  },
  {
   "cell_type": "code",
   "execution_count": 20,
   "metadata": {},
   "outputs": [
    {
     "data": {
      "application/vnd.jupyter.widget-view+json": {
       "model_id": "eabbc84bf8e64214981ab51acf5aba38",
       "version_major": 2,
       "version_minor": 0
      },
      "text/plain": [
       "interactive(children=(FloatSlider(value=1.0, description='epsilon', max=2.0, min=0.1), Output()), _dom_classes…"
      ]
     },
     "metadata": {},
     "output_type": "display_data"
    },
    {
     "data": {
      "text/plain": [
       "<function __main__.f>"
      ]
     },
     "execution_count": 20,
     "metadata": {},
     "output_type": "execute_result"
    }
   ],
   "source": [
    "import math\n",
    "import numpy\n",
    "import ipywidgets as widgets\n",
    "from matplotlib import pyplot\n",
    "from ipywidgets import interact\n",
    "\n",
    "%matplotlib inline\n",
    "\n",
    "\n",
    "N = 50                                # número de puntos en cada dirección\n",
    "x_start, x_end = -2.0, 2.0            # fronteras en el eje x\n",
    "y_start, y_end = -1.0, 1.0            # fronteras en el eje y\n",
    "x = numpy.linspace(x_start, x_end, N) # crea arreglo para las coordenadas en x\n",
    "y = numpy.linspace(y_start, y_end, N) # crea arreglo para las coordenadas en y\n",
    "\n",
    "X, Y = numpy.meshgrid(x, y)           # genera el grid\n",
    "\n",
    "#recibe el desplazamiento entre la fuente y el sumidero\n",
    "def f(epsilon):\n",
    "    m = 5.0                                   # fuerza del flujo\n",
    "    epsilon_x,epsilon_y = epsilon,0.0         # desplazamiento\n",
    "\n",
    "    # calcula el campo de velocidades sobre el grid de la fuente\n",
    "    u_source = (m / (2 * math.pi) *\n",
    "                (X + epsilon_x) / ((X + epsilon_x)**2 + (Y + epsilon_y)**2))\n",
    "    v_source = (m / (2 * math.pi) *\n",
    "                (Y + epsilon_y) / ((X + epsilon_x)**2 + (Y + epsilon_y)**2))\n",
    "\n",
    "    # calcula el campo de velocidades sobre el grid del sumidero\n",
    "    u_sink = (m / (2 * math.pi) *\n",
    "              (X - epsilon_x) / ((X - epsilon_x)**2 + (Y - epsilon_y)**2))\n",
    "    v_sink = (m / (2 * math.pi) *\n",
    "              (Y - epsilon_y) / ((X - epsilon_x)**2 + (Y - epsilon_y)**2))\n",
    "\n",
    "\n",
    "    # calcular el campo de velocidades del par fuente/sumidero usando superposición\n",
    "    u_pair = u_source - u_sink\n",
    "    v_pair = v_source - v_sink\n",
    "\n",
    "    # graficar las líneas de flujo del par fuente/sumidero\n",
    "    width = 10.0\n",
    "    height = (y_end - y_start) / (x_end - x_start) * width\n",
    "    pyplot.figure(figsize=(width, height))\n",
    "    pyplot.xlabel('x', fontsize=16)\n",
    "    pyplot.ylabel('y', fontsize=16)\n",
    "    pyplot.xlim(x_start, x_end)\n",
    "    pyplot.ylim(y_start, y_end)\n",
    "    pyplot.streamplot(X, Y, u_pair, v_pair,\n",
    "                      density=2.0, linewidth=1, arrowsize=2, arrowstyle='->')\n",
    "    pyplot.scatter([epsilon_x, -epsilon_x], [epsilon_y, -epsilon_y], \n",
    "                   color='#CD2305', s=80, marker='o');\n",
    "\n",
    "\n",
    "\n",
    "#para variar el desplazamiento epsilon\n",
    "interact(f, epsilon=widgets.FloatSlider(min=0.1,max=2.0,step=0.1,value=1.0))\n"
   ]
  },
  {
   "cell_type": "code",
   "execution_count": null,
   "metadata": {
    "collapsed": true
   },
   "outputs": [],
   "source": []
  }
 ],
 "metadata": {
  "kernelspec": {
   "display_name": "Python 3",
   "language": "python",
   "name": "python3"
  },
  "language_info": {
   "codemirror_mode": {
    "name": "ipython",
    "version": 3
   },
   "file_extension": ".py",
   "mimetype": "text/x-python",
   "name": "python",
   "nbconvert_exporter": "python",
   "pygments_lexer": "ipython3",
   "version": "3.6.1"
  }
 },
 "nbformat": 4,
 "nbformat_minor": 1
}
